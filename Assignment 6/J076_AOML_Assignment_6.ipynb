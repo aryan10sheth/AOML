{
  "nbformat": 4,
  "nbformat_minor": 0,
  "metadata": {
    "colab": {
      "provenance": []
    },
    "kernelspec": {
      "name": "python3",
      "display_name": "Python 3"
    },
    "language_info": {
      "name": "python"
    }
  },
  "cells": [
    {
      "cell_type": "code",
      "execution_count": 1,
      "metadata": {
        "colab": {
          "base_uri": "https://localhost:8080/"
        },
        "id": "NGdzSIGTJ2_u",
        "outputId": "06955a8a-bc6b-4a4a-e68a-5192306053f1"
      },
      "outputs": [
        {
          "output_type": "stream",
          "name": "stdout",
          "text": [
            "Downloading from https://www.kaggle.com/api/v1/datasets/download/zalando-research/fashionmnist?dataset_version_number=4...\n"
          ]
        },
        {
          "output_type": "stream",
          "name": "stderr",
          "text": [
            "100%|██████████| 68.8M/68.8M [00:03<00:00, 23.6MB/s]"
          ]
        },
        {
          "output_type": "stream",
          "name": "stdout",
          "text": [
            "Extracting files...\n"
          ]
        },
        {
          "output_type": "stream",
          "name": "stderr",
          "text": [
            "\n"
          ]
        },
        {
          "output_type": "stream",
          "name": "stdout",
          "text": [
            "Path to dataset files: /root/.cache/kagglehub/datasets/zalando-research/fashionmnist/versions/4\n"
          ]
        }
      ],
      "source": [
        "import kagglehub\n",
        "\n",
        "# Download latest version\n",
        "path = kagglehub.dataset_download(\"zalando-research/fashionmnist\")\n",
        "\n",
        "print(\"Path to dataset files:\", path)"
      ]
    },
    {
      "cell_type": "code",
      "source": [
        "from tensorflow.keras.datasets import fashion_mnist\n",
        "(x_train, y_train), (x_test, y_test) = fashion_mnist.load_data()"
      ],
      "metadata": {
        "colab": {
          "base_uri": "https://localhost:8080/"
        },
        "id": "-A7por5QLjp-",
        "outputId": "a407f2f0-bf17-4c2a-ed67-900c3e7a77da"
      },
      "execution_count": 2,
      "outputs": [
        {
          "output_type": "stream",
          "name": "stdout",
          "text": [
            "Downloading data from https://storage.googleapis.com/tensorflow/tf-keras-datasets/train-labels-idx1-ubyte.gz\n",
            "\u001b[1m29515/29515\u001b[0m \u001b[32m━━━━━━━━━━━━━━━━━━━━\u001b[0m\u001b[37m\u001b[0m \u001b[1m0s\u001b[0m 0us/step\n",
            "Downloading data from https://storage.googleapis.com/tensorflow/tf-keras-datasets/train-images-idx3-ubyte.gz\n",
            "\u001b[1m26421880/26421880\u001b[0m \u001b[32m━━━━━━━━━━━━━━━━━━━━\u001b[0m\u001b[37m\u001b[0m \u001b[1m2s\u001b[0m 0us/step\n",
            "Downloading data from https://storage.googleapis.com/tensorflow/tf-keras-datasets/t10k-labels-idx1-ubyte.gz\n",
            "\u001b[1m5148/5148\u001b[0m \u001b[32m━━━━━━━━━━━━━━━━━━━━\u001b[0m\u001b[37m\u001b[0m \u001b[1m0s\u001b[0m 0us/step\n",
            "Downloading data from https://storage.googleapis.com/tensorflow/tf-keras-datasets/t10k-images-idx3-ubyte.gz\n",
            "\u001b[1m4422102/4422102\u001b[0m \u001b[32m━━━━━━━━━━━━━━━━━━━━\u001b[0m\u001b[37m\u001b[0m \u001b[1m1s\u001b[0m 0us/step\n"
          ]
        }
      ]
    },
    {
      "cell_type": "code",
      "source": [
        "import numpy as np\n",
        "from sklearn.preprocessing import StandardScaler\n",
        "\n",
        "# Flatten images and scale pixel values\n",
        "x_train = x_train.reshape(x_train.shape[0], -1).astype('float32') / 255.0\n",
        "x_test = x_test.reshape(x_test.shape[0], -1).astype('float32') / 255.0\n",
        "\n",
        "# Standardize features\n",
        "scaler = StandardScaler()\n",
        "x_train = scaler.fit_transform(x_train)\n",
        "x_test = scaler.transform(x_test)\n"
      ],
      "metadata": {
        "id": "8m01meGPL6Qp"
      },
      "execution_count": 3,
      "outputs": []
    },
    {
      "cell_type": "code",
      "source": [
        "from sklearn.svm import SVC\n",
        "from sklearn.model_selection import GridSearchCV\n",
        "\n",
        "linear_params = {'C': [0.1, 1, 10]}\n",
        "linear_svm = GridSearchCV(SVC(kernel='linear'), param_grid=linear_params, cv=3)\n",
        "linear_svm.fit(x_train[:5000], y_train[:5000])  # Training on a subset to reduce computation\n",
        "\n",
        "print(\"Best C for linear kernel:\", linear_svm.best_params_)\n"
      ],
      "metadata": {
        "colab": {
          "base_uri": "https://localhost:8080/"
        },
        "id": "K9C04rPyMEE8",
        "outputId": "2eed1f41-175f-4810-c4a1-ee216f585cc9"
      },
      "execution_count": 4,
      "outputs": [
        {
          "output_type": "stream",
          "name": "stdout",
          "text": [
            "Best C for linear kernel: {'C': 0.1}\n"
          ]
        }
      ]
    },
    {
      "cell_type": "markdown",
      "source": [
        "took [:5000] as the 21,000 images taking too long in the grid search\n",
        "\n"
      ],
      "metadata": {
        "id": "qjNfWsu-66pd"
      }
    },
    {
      "cell_type": "code",
      "source": [
        "poly_params = {'C': [0.1, 1, 10], 'degree': [2, 3, 4]}\n",
        "\n",
        "# Perform Grid Search\n",
        "poly_svm = GridSearchCV(SVC(kernel='poly'), param_grid=poly_params, cv=3)\n",
        "poly_svm.fit(x_train[:5000], y_train[:5000])\n",
        "\n",
        "print(\"Best parameters for polynomial kernel:\", poly_svm.best_params_)\n"
      ],
      "metadata": {
        "colab": {
          "base_uri": "https://localhost:8080/"
        },
        "id": "hQGnjTb1MF7y",
        "outputId": "8d1e5e7c-0fe2-4308-db2d-0743c37ad2f6"
      },
      "execution_count": 5,
      "outputs": [
        {
          "output_type": "stream",
          "name": "stdout",
          "text": [
            "Best parameters for polynomial kernel: {'C': 10, 'degree': 2}\n"
          ]
        }
      ]
    },
    {
      "cell_type": "code",
      "source": [
        "rbf_params = {'C': [0.1, 1, 10], 'gamma': ['scale', 0.01, 0.1]}\n",
        "\n",
        "rbf_svm = GridSearchCV(SVC(kernel='rbf'), param_grid=rbf_params, cv=3)\n",
        "rbf_svm.fit(x_train[:5000], y_train[:5000])\n",
        "\n",
        "print(\"Best parameters for RBF kernel:\", rbf_svm.best_params_)\n"
      ],
      "metadata": {
        "colab": {
          "base_uri": "https://localhost:8080/"
        },
        "id": "F3BvCWWlMISL",
        "outputId": "88748487-f9c5-4c2d-9bab-f7e877634d69"
      },
      "execution_count": 6,
      "outputs": [
        {
          "output_type": "stream",
          "name": "stdout",
          "text": [
            "Best parameters for RBF kernel: {'C': 10, 'gamma': 'scale'}\n"
          ]
        }
      ]
    },
    {
      "cell_type": "code",
      "source": [
        "from sklearn.metrics import accuracy_score\n",
        "\n",
        "linear_preds = linear_svm.best_estimator_.predict(x_test)\n",
        "poly_preds = poly_svm.best_estimator_.predict(x_test)\n",
        "rbf_preds = rbf_svm.best_estimator_.predict(x_test)\n",
        "\n",
        "linear_acc = accuracy_score(y_test, linear_preds)\n",
        "poly_acc = accuracy_score(y_test, poly_preds)\n",
        "rbf_acc = accuracy_score(y_test, rbf_preds)\n",
        "\n",
        "print(f\"Linear SVM Accuracy: {linear_acc:.4f}\")\n",
        "print(f\"Polynomial SVM Accuracy: {poly_acc:.4f}\")\n",
        "print(f\"RBF SVM Accuracy: {rbf_acc:.4f}\")\n"
      ],
      "metadata": {
        "colab": {
          "base_uri": "https://localhost:8080/"
        },
        "id": "0CTp9uwxMKPU",
        "outputId": "70f81c73-74f3-49fb-ba7e-e15f63d892f9"
      },
      "execution_count": 7,
      "outputs": [
        {
          "output_type": "stream",
          "name": "stdout",
          "text": [
            "Linear SVM Accuracy: 0.8079\n",
            "Polynomial SVM Accuracy: 0.8447\n",
            "RBF SVM Accuracy: 0.8510\n"
          ]
        }
      ]
    },
    {
      "cell_type": "code",
      "source": [],
      "metadata": {
        "id": "JgHadi2-MMV5"
      },
      "execution_count": null,
      "outputs": []
    }
  ]
}