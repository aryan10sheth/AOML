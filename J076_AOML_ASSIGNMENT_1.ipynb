{
  "nbformat": 4,
  "nbformat_minor": 0,
  "metadata": {
    "colab": {
      "provenance": []
    },
    "kernelspec": {
      "name": "python3",
      "display_name": "Python 3"
    },
    "language_info": {
      "name": "python"
    }
  },
  "cells": [
    {
      "cell_type": "code",
      "source": [
        "import pandas as pd\n",
        "import numpy as np\n",
        "from sklearn.model_selection import train_test_split\n",
        "from sklearn.preprocessing import StandardScaler, OneHotEncoder\n",
        "from sklearn.neighbors import KNeighborsClassifier\n",
        "from sklearn.tree import DecisionTreeClassifier\n",
        "from sklearn.metrics import f1_score\n",
        "import joblib"
      ],
      "metadata": {
        "id": "-68aHcQmBVml"
      },
      "execution_count": 17,
      "outputs": []
    },
    {
      "cell_type": "code",
      "source": [
        "df = pd.read_csv(\"diabetes.csv\")"
      ],
      "metadata": {
        "id": "ZCNbWUaxChKe"
      },
      "execution_count": 18,
      "outputs": []
    },
    {
      "cell_type": "code",
      "source": [
        "def categorize_bmi(bmi):\n",
        "    if bmi < 18.5:\n",
        "        return \"Underweight\"\n",
        "    elif 18.5 <= bmi < 24.9:\n",
        "        return \"Normal weight\"\n",
        "    elif 25 <= bmi < 29.9:\n",
        "        return \"Overweight\"\n",
        "    else:\n",
        "        return \"Obese\""
      ],
      "metadata": {
        "id": "vIXRWRsXChVq"
      },
      "execution_count": 19,
      "outputs": []
    },
    {
      "cell_type": "code",
      "source": [
        "df[\"BMI_category\"] = df[\"BMI\"].apply(categorize_bmi)\n",
        "\n",
        "train_df, val_df = train_test_split(df, test_size=0.2, random_state=42, stratify=df[\"Outcome\"])\n",
        "\n",
        "X_train = train_df.drop(columns=[\"Outcome\"])\n",
        "y_train = train_df[\"Outcome\"]\n",
        "X_val = val_df.drop(columns=[\"Outcome\"])\n",
        "y_val = val_df[\"Outcome\"]"
      ],
      "metadata": {
        "id": "ILRXNBDBChdo"
      },
      "execution_count": 20,
      "outputs": []
    },
    {
      "cell_type": "code",
      "source": [
        "numeric_features = [\"Pregnancies\", \"Glucose\", \"BloodPressure\", \"SkinThickness\", \"Insulin\", \"BMI\", \"DiabetesPedigreeFunction\", \"Age\"]\n",
        "categorical_features = [\"BMI_category\"]\n",
        "\n",
        "scaler = StandardScaler()\n",
        "X_train[numeric_features] = scaler.fit_transform(X_train[numeric_features])\n",
        "X_val[numeric_features] = scaler.transform(X_val[numeric_features])"
      ],
      "metadata": {
        "id": "hbHluez5BVgo"
      },
      "execution_count": 21,
      "outputs": []
    },
    {
      "cell_type": "code",
      "source": [
        "encoder = OneHotEncoder(drop=\"first\", sparse_output=False) # Changed 'sparse' to 'sparse_output'\n",
        "X_train_encoded = encoder.fit_transform(X_train[categorical_features])\n",
        "X_val_encoded = encoder.transform(X_val[categorical_features])"
      ],
      "metadata": {
        "id": "a_vNaqlhCuYw"
      },
      "execution_count": 22,
      "outputs": []
    },
    {
      "cell_type": "code",
      "source": [
        "encoded_columns = encoder.get_feature_names_out(categorical_features)\n",
        "X_train_encoded_df = pd.DataFrame(X_train_encoded, columns=encoded_columns, index=X_train.index)\n",
        "X_val_encoded_df = pd.DataFrame(X_val_encoded, columns=encoded_columns, index=X_val.index)"
      ],
      "metadata": {
        "id": "22APfs-QCuVL"
      },
      "execution_count": 23,
      "outputs": []
    },
    {
      "cell_type": "code",
      "source": [
        "X_train = pd.concat([X_train[numeric_features], X_train_encoded_df], axis=1)\n",
        "X_val = pd.concat([X_val[numeric_features], X_val_encoded_df], axis=1)"
      ],
      "metadata": {
        "id": "AldJCBlYCuTG"
      },
      "execution_count": 24,
      "outputs": []
    },
    {
      "cell_type": "code",
      "source": [
        "best_knn_model = None\n",
        "best_knn_f1 = 0\n",
        "best_k = 0\n",
        "\n",
        "for k in [3, 5, 7]:\n",
        "    knn = KNeighborsClassifier(n_neighbors=k)\n",
        "    knn.fit(X_train, y_train)\n",
        "    y_pred = knn.predict(X_val)\n",
        "    f1 = f1_score(y_val, y_pred)\n",
        "\n",
        "    if f1 > best_knn_f1:\n",
        "        best_knn_f1 = f1\n",
        "        best_knn_model = knn\n",
        "        best_k = k\n",
        "\n",
        "print(f\"Best KNN model: k={best_k} with F1 score={best_knn_f1:.4f}\")\n"
      ],
      "metadata": {
        "colab": {
          "base_uri": "https://localhost:8080/"
        },
        "id": "Iu5F8T8KBVbp",
        "outputId": "45fc7738-3825-420c-dd34-cd18162acfd9"
      },
      "execution_count": 25,
      "outputs": [
        {
          "output_type": "stream",
          "name": "stdout",
          "text": [
            "Best KNN model: k=7 with F1 score=0.5743\n"
          ]
        }
      ]
    },
    {
      "cell_type": "code",
      "source": [
        "best_dt_model = None\n",
        "best_dt_f1 = 0\n",
        "best_depth = 0\n",
        "\n",
        "for depth in [3, 5, 7]:\n",
        "    dt = DecisionTreeClassifier(max_depth=depth, random_state=42)\n",
        "    dt.fit(X_train, y_train)\n",
        "    y_pred = dt.predict(X_val)\n",
        "    f1 = f1_score(y_val, y_pred)\n",
        "\n",
        "    if f1 > best_dt_f1:\n",
        "        best_dt_f1 = f1\n",
        "        best_dt_model = dt\n",
        "        best_depth = depth\n",
        "\n",
        "print(f\"Best Decision Tree model: max_depth={best_depth} with F1 score={best_dt_f1:.4f}\")\n"
      ],
      "metadata": {
        "colab": {
          "base_uri": "https://localhost:8080/"
        },
        "id": "c9EBLXuOBVXF",
        "outputId": "1bfccc69-297e-4809-c875-0d052fcb66ec"
      },
      "execution_count": 26,
      "outputs": [
        {
          "output_type": "stream",
          "name": "stdout",
          "text": [
            "Best Decision Tree model: max_depth=5 with F1 score=0.7222\n"
          ]
        }
      ]
    },
    {
      "cell_type": "code",
      "source": [
        "best_model = best_knn_model if best_knn_f1 > best_dt_f1 else best_dt_model\n",
        "model_name = \"knn_model.pkl\" if best_knn_f1 > best_dt_f1 else \"decision_tree_model.pkl\"\n"
      ],
      "metadata": {
        "id": "2KgtIs7xBVSK"
      },
      "execution_count": 27,
      "outputs": []
    },
    {
      "cell_type": "code",
      "source": [
        "joblib.dump(best_model, model_name)\n",
        "joblib.dump(scaler, \"scaler.pkl\")\n",
        "joblib.dump(encoder, \"encoder.pkl\")\n",
        "print(f\"Best model saved as {model_name}\")"
      ],
      "metadata": {
        "colab": {
          "base_uri": "https://localhost:8080/"
        },
        "id": "XF_JwGPSC-h-",
        "outputId": "85222e7f-f54c-4bbb-da9f-bf7b4d36cd2d"
      },
      "execution_count": 28,
      "outputs": [
        {
          "output_type": "stream",
          "name": "stdout",
          "text": [
            "Best model saved as decision_tree_model.pkl\n"
          ]
        }
      ]
    },
    {
      "cell_type": "code",
      "source": [
        "def predict_diabetes(sample):\n",
        "    model = joblib.load(model_name)\n",
        "    scaler = joblib.load(\"scaler.pkl\")\n",
        "    encoder = joblib.load(\"encoder.pkl\")\n",
        "\n",
        "    sample_df = pd.DataFrame([sample.to_dict()])\n",
        "    sample_df['BMI_category'] = sample_df.apply(lambda row: categorize_bmi(row['BMI']), axis=1)\n",
        "\n",
        "    numeric_sample = sample_df[numeric_features].values.reshape(1, -1)\n",
        "    categorical_sample = sample_df[categorical_features].values.reshape(1, -1)\n",
        "\n",
        "    numeric_sample_scaled = scaler.transform(numeric_sample)\n",
        "\n",
        "    categorical_sample_encoded = encoder.transform(categorical_sample)\n",
        "\n",
        "    final_sample = np.hstack([numeric_sample_scaled, categorical_sample_encoded])\n",
        "    prediction = model.predict(final_sample)\n",
        "    return \"Diabetic\" if prediction[0] == 1 else \"Not Diabetic\""
      ],
      "metadata": {
        "id": "VcdaVws7Bxv5"
      },
      "execution_count": 29,
      "outputs": []
    },
    {
      "cell_type": "code",
      "source": [
        "sample_indices = val_df.sample(5, random_state=42).index\n",
        "for idx in sample_indices:\n",
        "    sample = X_val.loc[idx]\n",
        "    result = predict_diabetes(sample)\n",
        "    print(f\"Sample {idx}: {result}\")\n"
      ],
      "metadata": {
        "colab": {
          "base_uri": "https://localhost:8080/"
        },
        "id": "bdA0riC_B-13",
        "outputId": "dc29879c-12f3-429b-f13f-2522fd06f84e"
      },
      "execution_count": 30,
      "outputs": [
        {
          "output_type": "stream",
          "name": "stdout",
          "text": [
            "Sample 116: Not Diabetic\n",
            "Sample 402: Not Diabetic\n",
            "Sample 425: Not Diabetic\n",
            "Sample 736: Not Diabetic\n",
            "Sample 330: Not Diabetic\n"
          ]
        },
        {
          "output_type": "stream",
          "name": "stderr",
          "text": [
            "/usr/local/lib/python3.11/dist-packages/sklearn/utils/validation.py:2739: UserWarning: X does not have valid feature names, but StandardScaler was fitted with feature names\n",
            "  warnings.warn(\n",
            "/usr/local/lib/python3.11/dist-packages/sklearn/utils/validation.py:2739: UserWarning: X does not have valid feature names, but OneHotEncoder was fitted with feature names\n",
            "  warnings.warn(\n",
            "/usr/local/lib/python3.11/dist-packages/sklearn/utils/validation.py:2739: UserWarning: X does not have valid feature names, but DecisionTreeClassifier was fitted with feature names\n",
            "  warnings.warn(\n",
            "/usr/local/lib/python3.11/dist-packages/sklearn/utils/validation.py:2739: UserWarning: X does not have valid feature names, but StandardScaler was fitted with feature names\n",
            "  warnings.warn(\n",
            "/usr/local/lib/python3.11/dist-packages/sklearn/utils/validation.py:2739: UserWarning: X does not have valid feature names, but OneHotEncoder was fitted with feature names\n",
            "  warnings.warn(\n",
            "/usr/local/lib/python3.11/dist-packages/sklearn/utils/validation.py:2739: UserWarning: X does not have valid feature names, but DecisionTreeClassifier was fitted with feature names\n",
            "  warnings.warn(\n",
            "/usr/local/lib/python3.11/dist-packages/sklearn/utils/validation.py:2739: UserWarning: X does not have valid feature names, but StandardScaler was fitted with feature names\n",
            "  warnings.warn(\n",
            "/usr/local/lib/python3.11/dist-packages/sklearn/utils/validation.py:2739: UserWarning: X does not have valid feature names, but OneHotEncoder was fitted with feature names\n",
            "  warnings.warn(\n",
            "/usr/local/lib/python3.11/dist-packages/sklearn/utils/validation.py:2739: UserWarning: X does not have valid feature names, but DecisionTreeClassifier was fitted with feature names\n",
            "  warnings.warn(\n",
            "/usr/local/lib/python3.11/dist-packages/sklearn/utils/validation.py:2739: UserWarning: X does not have valid feature names, but StandardScaler was fitted with feature names\n",
            "  warnings.warn(\n",
            "/usr/local/lib/python3.11/dist-packages/sklearn/utils/validation.py:2739: UserWarning: X does not have valid feature names, but OneHotEncoder was fitted with feature names\n",
            "  warnings.warn(\n",
            "/usr/local/lib/python3.11/dist-packages/sklearn/utils/validation.py:2739: UserWarning: X does not have valid feature names, but DecisionTreeClassifier was fitted with feature names\n",
            "  warnings.warn(\n",
            "/usr/local/lib/python3.11/dist-packages/sklearn/utils/validation.py:2739: UserWarning: X does not have valid feature names, but StandardScaler was fitted with feature names\n",
            "  warnings.warn(\n",
            "/usr/local/lib/python3.11/dist-packages/sklearn/utils/validation.py:2739: UserWarning: X does not have valid feature names, but OneHotEncoder was fitted with feature names\n",
            "  warnings.warn(\n",
            "/usr/local/lib/python3.11/dist-packages/sklearn/utils/validation.py:2739: UserWarning: X does not have valid feature names, but DecisionTreeClassifier was fitted with feature names\n",
            "  warnings.warn(\n"
          ]
        }
      ]
    },
    {
      "cell_type": "code",
      "source": [],
      "metadata": {
        "id": "fWd9bvEBCQy7"
      },
      "execution_count": null,
      "outputs": []
    }
  ]
}