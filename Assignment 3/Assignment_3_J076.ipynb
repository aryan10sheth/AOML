{
  "nbformat": 4,
  "nbformat_minor": 0,
  "metadata": {
    "colab": {
      "provenance": []
    },
    "kernelspec": {
      "name": "python3",
      "display_name": "Python 3"
    },
    "language_info": {
      "name": "python"
    }
  },
  "cells": [
    {
      "cell_type": "code",
      "execution_count": 1,
      "metadata": {
        "id": "PUGbMj2Ls81_"
      },
      "outputs": [],
      "source": [
        "import pandas as pd\n",
        "import numpy as np\n",
        "import matplotlib.pyplot as plt\n",
        "import seaborn as sns\n",
        "from sklearn.model_selection import train_test_split, cross_val_score\n",
        "from sklearn.preprocessing import OrdinalEncoder, StandardScaler, PolynomialFeatures\n",
        "from sklearn.linear_model import LinearRegression\n",
        "from sklearn.metrics import mean_squared_error\n",
        "\n",
        "df = pd.read_csv('gemstone.csv')\n",
        "df=df.drop(columns=['id'])\n",
        "\n",
        "ordinal_mapping = {\n",
        "    'cut': ['Fair', 'Good', 'Very Good', 'Premium', 'Ideal'],\n",
        "    'color': ['D', 'E', 'F', 'G', 'H', 'I', 'J'],\n",
        "    'clarity': ['I1', 'SI2', 'SI1', 'VS2', 'VS1', 'VVS2', 'VVS1', 'IF']\n",
        "}\n",
        "encoder = OrdinalEncoder(categories=[ordinal_mapping['cut'],\n",
        "                         ordinal_mapping['color'],\n",
        "                         ordinal_mapping['clarity']], dtype=int)\n",
        "df[['cut', 'color', 'clarity']] = encoder.fit_transform(df[['cut', 'color', 'clarity']])\n",
        "\n",
        "original_features = ['carat', 'cut', 'color', 'clarity', 'depth', 'table', 'x', 'y', 'z']\n",
        "X = df[original_features]\n",
        "y = np.log(df['price'])\n",
        "\n",
        "X_train, X_test, y_train, y_test = train_test_split(X, y, test_size=0.2, random_state=42)\n",
        "\n",
        "results = []\n",
        "current_features = original_features.copy()\n",
        "current_X_train = X_train.copy()\n",
        "current_X_test = X_test.copy()"
      ]
    },
    {
      "cell_type": "code",
      "source": [
        "scaler = StandardScaler().fit(current_X_train)\n",
        "X_scaled = scaler.transform(current_X_train)\n",
        "\n",
        "model = LinearRegression()\n",
        "baseline_rmse = -cross_val_score(model, X_scaled, y_train,\n",
        "                               cv=5, scoring='neg_root_mean_squared_error').mean()\n",
        "results.append(('Baseline', baseline_rmse, current_features.copy()))\n",
        "\n",
        "print(f\"Baseline RMSE: {baseline_rmse:.4f}\")"
      ],
      "metadata": {
        "colab": {
          "base_uri": "https://localhost:8080/"
        },
        "id": "wZXb_jsPtQiX",
        "outputId": "60b913db-7d5f-4986-8c1a-c198b63077d5"
      },
      "execution_count": 2,
      "outputs": [
        {
          "output_type": "stream",
          "name": "stdout",
          "text": [
            "Baseline RMSE: 0.1395\n"
          ]
        }
      ]
    },
    {
      "cell_type": "code",
      "source": [
        "current_X_train = current_X_train.assign(\n",
        "    volume = current_X_train.x * current_X_train.y * current_X_train.z,\n",
        "    log_carat = np.log(current_X_train.carat),\n",
        "    depth_table_ratio = current_X_train.depth / current_X_train.table\n",
        ")\n",
        "\n",
        "current_X_test = current_X_test.assign(\n",
        "    volume = current_X_test.x * current_X_test.y * current_X_test.z,\n",
        "    log_carat = np.log(current_X_test.carat),\n",
        "    depth_table_ratio = current_X_test.depth / current_X_test.table\n",
        ")\n",
        "\n",
        "new_features = ['volume', 'log_carat', 'depth_table_ratio']\n",
        "current_features += new_features\n",
        "\n",
        "scaler = StandardScaler().fit(current_X_train)\n",
        "X_scaled = scaler.transform(current_X_train)\n",
        "\n",
        "model = LinearRegression()\n",
        "rmse = -cross_val_score(model, X_scaled, y_train,\n",
        "                      cv=5, scoring='neg_root_mean_squared_error').mean()\n",
        "results.append(('Basic Transformations', rmse, new_features))"
      ],
      "metadata": {
        "id": "sNh7UB19tS1O"
      },
      "execution_count": 3,
      "outputs": []
    },
    {
      "cell_type": "code",
      "source": [
        "print(f\"After Basic Transformations RMSE: {rmse:.4f}\")\n",
        "print(f\"Improvement: {baseline_rmse - rmse:.4f}\")\n",
        "print(\"Added features:\", new_features)"
      ],
      "metadata": {
        "colab": {
          "base_uri": "https://localhost:8080/"
        },
        "id": "OwITkyrWtYYd",
        "outputId": "3c875957-d0fa-4783-b4f9-3d7f2ffde0d2"
      },
      "execution_count": 4,
      "outputs": [
        {
          "output_type": "stream",
          "name": "stdout",
          "text": [
            "After Basic Transformations RMSE: 0.1369\n",
            "Improvement: 0.0026\n",
            "Added features: ['volume', 'log_carat', 'depth_table_ratio']\n"
          ]
        }
      ]
    },
    {
      "cell_type": "code",
      "source": [
        "current_X_train['carat_bin'] = pd.qcut(current_X_train.carat, q=5, labels=False, duplicates='drop')\n",
        "current_X_train['depth_bin'] = pd.qcut(current_X_train.depth, q=5, labels=False, duplicates='drop')\n",
        "\n",
        "current_X_test['carat_bin'] = pd.qcut(current_X_test.carat, q=5, labels=False, duplicates='drop')\n",
        "current_X_test['depth_bin'] = pd.qcut(current_X_test.depth, q=5, labels=False, duplicates='drop')\n",
        "\n",
        "new_features = ['carat_bin', 'depth_bin']\n",
        "current_features += new_features\n",
        "\n",
        "\n",
        "scaler = StandardScaler().fit(current_X_train)\n",
        "X_scaled = scaler.transform(current_X_train)\n",
        "\n",
        "model = LinearRegression()\n",
        "rmse = -cross_val_score(model, X_scaled, y_train,\n",
        "                      cv=5, scoring='neg_root_mean_squared_error').mean()\n",
        "results.append(('Binning', rmse, new_features))"
      ],
      "metadata": {
        "id": "_sOHi04gtYU8"
      },
      "execution_count": 5,
      "outputs": []
    },
    {
      "cell_type": "code",
      "source": [
        "print(f\"After Binning RMSE: {rmse:.4f}\")\n",
        "print(f\"Improvement: {baseline_rmse - rmse:.4f}\")\n",
        "print(\"Added features:\", new_features)"
      ],
      "metadata": {
        "colab": {
          "base_uri": "https://localhost:8080/"
        },
        "id": "g0MSh1_AtYS-",
        "outputId": "c3c7776a-f80a-40e5-abe2-bd4f4110c291"
      },
      "execution_count": 6,
      "outputs": [
        {
          "output_type": "stream",
          "name": "stdout",
          "text": [
            "After Binning RMSE: 0.1369\n",
            "Improvement: 0.0027\n",
            "Added features: ['carat_bin', 'depth_bin']\n"
          ]
        }
      ]
    },
    {
      "cell_type": "code",
      "source": [
        "current_X_train['carat_volume'] = current_X_train.carat * current_X_train.volume\n",
        "current_X_train['table_depth'] = current_X_train.table * current_X_train.depth\n",
        "\n",
        "current_X_test['carat_volume'] = current_X_test.carat * current_X_test.volume\n",
        "current_X_test['table_depth'] = current_X_test.table * current_X_test.depth\n",
        "\n",
        "new_features = ['carat_volume', 'table_depth']\n",
        "current_features += new_features\n",
        "\n",
        "scaler = StandardScaler().fit(current_X_train)\n",
        "X_scaled = scaler.transform(current_X_train)\n",
        "\n",
        "model = LinearRegression()\n",
        "rmse = -cross_val_score(model, X_scaled, y_train,\n",
        "                      cv=5, scoring='neg_root_mean_squared_error').mean()\n",
        "results.append(('Interaction Features', rmse, new_features))"
      ],
      "metadata": {
        "id": "Z7gQ_58CtfOH"
      },
      "execution_count": 7,
      "outputs": []
    },
    {
      "cell_type": "code",
      "source": [
        "print(f\"After Interaction Features RMSE: {rmse:.4f}\")\n",
        "print(f\"Improvement: {baseline_rmse - rmse:.4f}\")\n",
        "print(\"Added features:\", new_features)"
      ],
      "metadata": {
        "colab": {
          "base_uri": "https://localhost:8080/"
        },
        "id": "Q_8vC31jtjOx",
        "outputId": "2eb1ac1d-c830-40e9-d35b-6d4e4bae7298"
      },
      "execution_count": 8,
      "outputs": [
        {
          "output_type": "stream",
          "name": "stdout",
          "text": [
            "After Interaction Features RMSE: 0.1302\n",
            "Improvement: 0.0094\n",
            "Added features: ['carat_volume', 'table_depth']\n"
          ]
        }
      ]
    },
    {
      "cell_type": "code",
      "source": [
        "from sklearn.ensemble import RandomForestRegressor\n",
        "from sklearn.model_selection import GridSearchCV, RandomizedSearchCV\n",
        "\n",
        "param_grid = {\n",
        "    'n_estimators': [10, 20]\n",
        "}\n",
        "\n",
        "param_dist = {\n",
        "    'n_estimators': [5,10,20],\n",
        "    'max_depth': [None, 10, 20, 30, 40],\n",
        "    'min_samples_split': [2, 5, 10, 15]\n",
        "}\n",
        "\n",
        "rf = RandomForestRegressor(random_state=42)\n",
        "\n",
        "grid_search = GridSearchCV(rf, param_grid, cv=5, scoring='neg_root_mean_squared_error', n_jobs=-1)\n",
        "grid_search.fit(current_X_train, y_train)\n",
        "print(f\"Best Grid Search RMSE: {-grid_search.best_score_:.2f}\")\n",
        "\n",
        "random_search = RandomizedSearchCV(rf, param_dist, n_iter=3, cv=5,\n",
        "                                   scoring='neg_root_mean_squared_error', random_state=42, n_jobs=-1)\n",
        "random_search.fit(current_X_train, y_train)\n",
        "print(f\"Best Random Search RMSE: {-random_search.best_score_:.2f}\")"
      ],
      "metadata": {
        "colab": {
          "base_uri": "https://localhost:8080/"
        },
        "id": "KrB7eEtrtljg",
        "outputId": "b2488396-6c79-40d7-a060-ba8e9c666280"
      },
      "execution_count": 9,
      "outputs": [
        {
          "output_type": "stream",
          "name": "stdout",
          "text": [
            "Best Grid Search RMSE: 0.11\n",
            "Best Random Search RMSE: 0.11\n"
          ]
        }
      ]
    },
    {
      "cell_type": "code",
      "source": [
        "print(\"Best Parameters from Grid Search:\")\n",
        "print(grid_search.best_params_)\n",
        "\n",
        "print(\"\\nBest Parameters from Random Search:\")\n",
        "print(random_search.best_params_)"
      ],
      "metadata": {
        "colab": {
          "base_uri": "https://localhost:8080/"
        },
        "id": "7KFtTdPltnuL",
        "outputId": "25443d02-95d9-46e1-88bc-67954cdd71bb"
      },
      "execution_count": 10,
      "outputs": [
        {
          "output_type": "stream",
          "name": "stdout",
          "text": [
            "Best Parameters from Grid Search:\n",
            "{'n_estimators': 20}\n",
            "\n",
            "Best Parameters from Random Search:\n",
            "{'n_estimators': 20, 'min_samples_split': 5, 'max_depth': None}\n"
          ]
        }
      ]
    },
    {
      "cell_type": "code",
      "source": [],
      "metadata": {
        "id": "x9Tf0k1StqF2"
      },
      "execution_count": null,
      "outputs": []
    }
  ]
}